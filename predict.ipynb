{
 "metadata": {
  "language_info": {
   "codemirror_mode": {
    "name": "ipython",
    "version": 3
   },
   "file_extension": ".py",
   "mimetype": "text/x-python",
   "name": "python",
   "nbconvert_exporter": "python",
   "pygments_lexer": "ipython3",
   "version": "3.7.7-final"
  },
  "orig_nbformat": 2,
  "kernelspec": {
   "name": "Python 3.7.7 64-bit ('TEST': conda)",
   "display_name": "Python 3.7.7 64-bit ('TEST': conda)",
   "metadata": {
    "interpreter": {
     "hash": "113cc409f5fe68c1d3c8dd8e7fa47783feb0197acea64ca4e669776bb959e33f"
    }
   }
  }
 },
 "nbformat": 4,
 "nbformat_minor": 2,
 "cells": [
  {
   "cell_type": "code",
   "execution_count": 48,
   "metadata": {},
   "outputs": [
    {
     "output_type": "execute_result",
     "data": {
      "text/plain": [
       "                       V0        V1          V2          V3        V4  \\\n",
       "0     2012-01-01 01:00:00 -4.187027  498.272491  132.585444 -4.331107   \n",
       "1     2012-01-01 02:00:00 -4.513490  498.346536  132.155846 -5.144637   \n",
       "2     2012-01-01 03:00:00 -4.419986  498.324978  132.239725 -4.864652   \n",
       "3     2012-01-01 04:00:00 -4.643191  498.548175  132.284963 -5.128783   \n",
       "4     2012-01-01 05:00:00 -4.802056  498.790885  131.710328 -5.345652   \n",
       "...                   ...       ...         ...         ...       ...   \n",
       "70086 2019-12-31 19:10:00 -0.404982  501.040783  135.916502 -2.597715   \n",
       "70087 2019-12-31 20:10:00 -0.720429  500.808688  135.873692 -3.444217   \n",
       "70088 2019-12-31 21:10:00 -1.371468  500.492515  135.174733 -3.456158   \n",
       "70089 2019-12-31 22:10:00 -1.402805  500.222985  135.031809 -3.587148   \n",
       "70090 2019-12-31 23:10:00 -2.001010  499.953958  134.575172 -3.948481   \n",
       "\n",
       "              V5        V6        V7        V8        V9       V10      V11  \\\n",
       "0      47.011057  1.646980  1.498874  0.148436  0.977048  1.650631  1307.86   \n",
       "1      46.609310  1.407817  1.453446 -0.012474  1.005379  1.575515  1312.25   \n",
       "2      46.660838  1.674208  1.402759  0.121875  0.938557  1.432068  1312.18   \n",
       "3      46.333029  1.395419  1.656221  0.002041  0.949993  1.241215  1313.61   \n",
       "4      46.133068  1.502969  1.336300  0.021828  0.763201  1.427051  1317.19   \n",
       "...          ...       ...       ...       ...       ...       ...      ...   \n",
       "70086  36.011214  2.783641  1.966605  0.775285  1.138488  1.917188  1280.70   \n",
       "70087  33.113073  2.818106  1.813547  0.793354  1.143923  1.967996  1281.87   \n",
       "70088  36.551115  2.390426  1.920235  0.669662  1.162564  1.831300  1288.02   \n",
       "70089  36.195800  2.467938  1.787150  0.808476  1.087828  1.629261  1288.03   \n",
       "70090  36.300218  2.108959  1.718543  0.533920  1.134640  1.821696  1292.41   \n",
       "\n",
       "            V12       V13       V14       V15       year     month     day  \\\n",
       "0     -0.204862 -0.046168 -0.614587 -0.138503  year 2012   month 1   day 1   \n",
       "1     -0.245971 -0.044701 -0.619848 -0.112645  year 2012   month 1   day 1   \n",
       "2     -0.175527  0.039879 -0.614344  0.139576  year 2012   month 1   day 1   \n",
       "3     -0.050000 -0.086603 -0.190000 -0.329090  year 2012   month 1   day 1   \n",
       "4     -0.368202  0.156292 -0.810044  0.343843  year 2012   month 1   day 1   \n",
       "...         ...       ...       ...       ...        ...       ...     ...   \n",
       "70086 -0.855154 -0.160038 -1.336792 -0.250174  year 2019  month 12  day 31   \n",
       "70087 -0.716196 -0.726267 -1.348134 -1.367090  year 2019  month 12  day 31   \n",
       "70088 -0.661501  0.257908 -1.453438  0.566672  year 2019  month 12  day 31   \n",
       "70089 -0.280621 -0.209169 -0.545207 -0.406385  year 2019  month 12  day 31   \n",
       "70090 -0.516998 -0.215205 -0.923210 -0.384295  year 2019  month 12  day 31   \n",
       "\n",
       "          hour  \n",
       "0       hour 1  \n",
       "1       hour 2  \n",
       "2       hour 3  \n",
       "3       hour 4  \n",
       "4       hour 5  \n",
       "...        ...  \n",
       "70086  hour 19  \n",
       "70087  hour 20  \n",
       "70088  hour 21  \n",
       "70089  hour 22  \n",
       "70090  hour 23  \n",
       "\n",
       "[70091 rows x 20 columns]"
      ],
      "text/html": "<div>\n<style scoped>\n    .dataframe tbody tr th:only-of-type {\n        vertical-align: middle;\n    }\n\n    .dataframe tbody tr th {\n        vertical-align: top;\n    }\n\n    .dataframe thead th {\n        text-align: right;\n    }\n</style>\n<table border=\"1\" class=\"dataframe\">\n  <thead>\n    <tr style=\"text-align: right;\">\n      <th></th>\n      <th>V0</th>\n      <th>V1</th>\n      <th>V2</th>\n      <th>V3</th>\n      <th>V4</th>\n      <th>V5</th>\n      <th>V6</th>\n      <th>V7</th>\n      <th>V8</th>\n      <th>V9</th>\n      <th>V10</th>\n      <th>V11</th>\n      <th>V12</th>\n      <th>V13</th>\n      <th>V14</th>\n      <th>V15</th>\n      <th>year</th>\n      <th>month</th>\n      <th>day</th>\n      <th>hour</th>\n    </tr>\n  </thead>\n  <tbody>\n    <tr>\n      <th>0</th>\n      <td>2012-01-01 01:00:00</td>\n      <td>-4.187027</td>\n      <td>498.272491</td>\n      <td>132.585444</td>\n      <td>-4.331107</td>\n      <td>47.011057</td>\n      <td>1.646980</td>\n      <td>1.498874</td>\n      <td>0.148436</td>\n      <td>0.977048</td>\n      <td>1.650631</td>\n      <td>1307.86</td>\n      <td>-0.204862</td>\n      <td>-0.046168</td>\n      <td>-0.614587</td>\n      <td>-0.138503</td>\n      <td>year 2012</td>\n      <td>month 1</td>\n      <td>day 1</td>\n      <td>hour 1</td>\n    </tr>\n    <tr>\n      <th>1</th>\n      <td>2012-01-01 02:00:00</td>\n      <td>-4.513490</td>\n      <td>498.346536</td>\n      <td>132.155846</td>\n      <td>-5.144637</td>\n      <td>46.609310</td>\n      <td>1.407817</td>\n      <td>1.453446</td>\n      <td>-0.012474</td>\n      <td>1.005379</td>\n      <td>1.575515</td>\n      <td>1312.25</td>\n      <td>-0.245971</td>\n      <td>-0.044701</td>\n      <td>-0.619848</td>\n      <td>-0.112645</td>\n      <td>year 2012</td>\n      <td>month 1</td>\n      <td>day 1</td>\n      <td>hour 2</td>\n    </tr>\n    <tr>\n      <th>2</th>\n      <td>2012-01-01 03:00:00</td>\n      <td>-4.419986</td>\n      <td>498.324978</td>\n      <td>132.239725</td>\n      <td>-4.864652</td>\n      <td>46.660838</td>\n      <td>1.674208</td>\n      <td>1.402759</td>\n      <td>0.121875</td>\n      <td>0.938557</td>\n      <td>1.432068</td>\n      <td>1312.18</td>\n      <td>-0.175527</td>\n      <td>0.039879</td>\n      <td>-0.614344</td>\n      <td>0.139576</td>\n      <td>year 2012</td>\n      <td>month 1</td>\n      <td>day 1</td>\n      <td>hour 3</td>\n    </tr>\n    <tr>\n      <th>3</th>\n      <td>2012-01-01 04:00:00</td>\n      <td>-4.643191</td>\n      <td>498.548175</td>\n      <td>132.284963</td>\n      <td>-5.128783</td>\n      <td>46.333029</td>\n      <td>1.395419</td>\n      <td>1.656221</td>\n      <td>0.002041</td>\n      <td>0.949993</td>\n      <td>1.241215</td>\n      <td>1313.61</td>\n      <td>-0.050000</td>\n      <td>-0.086603</td>\n      <td>-0.190000</td>\n      <td>-0.329090</td>\n      <td>year 2012</td>\n      <td>month 1</td>\n      <td>day 1</td>\n      <td>hour 4</td>\n    </tr>\n    <tr>\n      <th>4</th>\n      <td>2012-01-01 05:00:00</td>\n      <td>-4.802056</td>\n      <td>498.790885</td>\n      <td>131.710328</td>\n      <td>-5.345652</td>\n      <td>46.133068</td>\n      <td>1.502969</td>\n      <td>1.336300</td>\n      <td>0.021828</td>\n      <td>0.763201</td>\n      <td>1.427051</td>\n      <td>1317.19</td>\n      <td>-0.368202</td>\n      <td>0.156292</td>\n      <td>-0.810044</td>\n      <td>0.343843</td>\n      <td>year 2012</td>\n      <td>month 1</td>\n      <td>day 1</td>\n      <td>hour 5</td>\n    </tr>\n    <tr>\n      <th>...</th>\n      <td>...</td>\n      <td>...</td>\n      <td>...</td>\n      <td>...</td>\n      <td>...</td>\n      <td>...</td>\n      <td>...</td>\n      <td>...</td>\n      <td>...</td>\n      <td>...</td>\n      <td>...</td>\n      <td>...</td>\n      <td>...</td>\n      <td>...</td>\n      <td>...</td>\n      <td>...</td>\n      <td>...</td>\n      <td>...</td>\n      <td>...</td>\n      <td>...</td>\n    </tr>\n    <tr>\n      <th>70086</th>\n      <td>2019-12-31 19:10:00</td>\n      <td>-0.404982</td>\n      <td>501.040783</td>\n      <td>135.916502</td>\n      <td>-2.597715</td>\n      <td>36.011214</td>\n      <td>2.783641</td>\n      <td>1.966605</td>\n      <td>0.775285</td>\n      <td>1.138488</td>\n      <td>1.917188</td>\n      <td>1280.70</td>\n      <td>-0.855154</td>\n      <td>-0.160038</td>\n      <td>-1.336792</td>\n      <td>-0.250174</td>\n      <td>year 2019</td>\n      <td>month 12</td>\n      <td>day 31</td>\n      <td>hour 19</td>\n    </tr>\n    <tr>\n      <th>70087</th>\n      <td>2019-12-31 20:10:00</td>\n      <td>-0.720429</td>\n      <td>500.808688</td>\n      <td>135.873692</td>\n      <td>-3.444217</td>\n      <td>33.113073</td>\n      <td>2.818106</td>\n      <td>1.813547</td>\n      <td>0.793354</td>\n      <td>1.143923</td>\n      <td>1.967996</td>\n      <td>1281.87</td>\n      <td>-0.716196</td>\n      <td>-0.726267</td>\n      <td>-1.348134</td>\n      <td>-1.367090</td>\n      <td>year 2019</td>\n      <td>month 12</td>\n      <td>day 31</td>\n      <td>hour 20</td>\n    </tr>\n    <tr>\n      <th>70088</th>\n      <td>2019-12-31 21:10:00</td>\n      <td>-1.371468</td>\n      <td>500.492515</td>\n      <td>135.174733</td>\n      <td>-3.456158</td>\n      <td>36.551115</td>\n      <td>2.390426</td>\n      <td>1.920235</td>\n      <td>0.669662</td>\n      <td>1.162564</td>\n      <td>1.831300</td>\n      <td>1288.02</td>\n      <td>-0.661501</td>\n      <td>0.257908</td>\n      <td>-1.453438</td>\n      <td>0.566672</td>\n      <td>year 2019</td>\n      <td>month 12</td>\n      <td>day 31</td>\n      <td>hour 21</td>\n    </tr>\n    <tr>\n      <th>70089</th>\n      <td>2019-12-31 22:10:00</td>\n      <td>-1.402805</td>\n      <td>500.222985</td>\n      <td>135.031809</td>\n      <td>-3.587148</td>\n      <td>36.195800</td>\n      <td>2.467938</td>\n      <td>1.787150</td>\n      <td>0.808476</td>\n      <td>1.087828</td>\n      <td>1.629261</td>\n      <td>1288.03</td>\n      <td>-0.280621</td>\n      <td>-0.209169</td>\n      <td>-0.545207</td>\n      <td>-0.406385</td>\n      <td>year 2019</td>\n      <td>month 12</td>\n      <td>day 31</td>\n      <td>hour 22</td>\n    </tr>\n    <tr>\n      <th>70090</th>\n      <td>2019-12-31 23:10:00</td>\n      <td>-2.001010</td>\n      <td>499.953958</td>\n      <td>134.575172</td>\n      <td>-3.948481</td>\n      <td>36.300218</td>\n      <td>2.108959</td>\n      <td>1.718543</td>\n      <td>0.533920</td>\n      <td>1.134640</td>\n      <td>1.821696</td>\n      <td>1292.41</td>\n      <td>-0.516998</td>\n      <td>-0.215205</td>\n      <td>-0.923210</td>\n      <td>-0.384295</td>\n      <td>year 2019</td>\n      <td>month 12</td>\n      <td>day 31</td>\n      <td>hour 23</td>\n    </tr>\n  </tbody>\n</table>\n<p>70091 rows × 20 columns</p>\n</div>"
     },
     "metadata": {},
     "execution_count": 48
    }
   ],
   "source": [
    "import numpy as np\n",
    "import pandas as pd\n",
    "import statsmodels.tsa.stattools as ts\n",
    "import matplotlib.pyplot as plt\n",
    "from sklearn.model_selection import train_test_split\n",
    "\n",
    "%store -r dat\n",
    "dat"
   ]
  },
  {
   "cell_type": "code",
   "execution_count": 49,
   "metadata": {},
   "outputs": [],
   "source": [
    "#one hot encoding\n",
    "list_one_hot = ['year','month','day','hour']\n",
    "for i in list_one_hot:\n",
    "    # Get one hot encoding of columns B\n",
    "    one_hot = pd.get_dummies(dat[i])\n",
    "    # Drop column B as it is now encoded\n",
    "    dat = dat.drop(i,axis = 1)\n",
    "    # Join the encoded df\n",
    "    dat = dat.join(one_hot)\n",
    "  \n",
    "  #delete time stamp\n",
    "del dat['V0']"
   ]
  },
  {
   "cell_type": "code",
   "execution_count": 50,
   "metadata": {},
   "outputs": [
    {
     "output_type": "stream",
     "name": "stdout",
     "text": [
      "(56072, 90) (14019, 90)\n(56072,) (14019,)\n"
     ]
    }
   ],
   "source": [
    "#Divide data to train\\test, x\\y\n",
    "y_dat = dat.iloc[:, -1]\n",
    "temp = dat.shape[1]\n",
    "x_dat = dat.iloc[:, list(range(temp-1)) + [-1]]\n",
    "\n",
    "x_train, x_test, y_train, y_test = train_test_split(x_dat, y_dat, test_size=0.2)\n",
    "print(x_train.shape, x_test.shape)\n",
    "print(y_train.shape, y_test.shape)\n"
   ]
  },
  {
   "cell_type": "code",
   "execution_count": 51,
   "metadata": {},
   "outputs": [],
   "source": [
    "from sklearn.linear_model import LinearRegression\n",
    "\n",
    "x_train = x_train.apply(pd.to_numeric, errors='coerce')\n",
    "x_test = x_test.apply(pd.to_numeric, errors='coerce')\n",
    "\n",
    "model = LinearRegression()\n",
    "model.fit(x_train, y_train)\n",
    "\n",
    "#X_predict = []  # put the dates of which you want to predict kwh here\n",
    "y_predict = model.predict(x_test)"
   ]
  },
  {
   "cell_type": "code",
   "execution_count": 52,
   "metadata": {},
   "outputs": [
    {
     "output_type": "execute_result",
     "data": {
      "text/plain": [
       "array([ 3.74700271e-16, -1.38777878e-17,  6.10622664e-16, ...,\n",
       "        4.71844785e-16,  3.33066907e-16, -3.05311332e-16])"
      ]
     },
     "metadata": {},
     "execution_count": 52
    }
   ],
   "source": [
    "#TODO: add roc\n"
   ]
  }
 ]
}