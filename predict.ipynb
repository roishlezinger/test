{
 "metadata": {
  "language_info": {
   "codemirror_mode": {
    "name": "ipython",
    "version": 3
   },
   "file_extension": ".py",
   "mimetype": "text/x-python",
   "name": "python",
   "nbconvert_exporter": "python",
   "pygments_lexer": "ipython3",
   "version": "3.7.7-final"
  },
  "orig_nbformat": 2,
  "kernelspec": {
   "name": "Python 3.7.7 64-bit ('TEST': conda)",
   "display_name": "Python 3.7.7 64-bit ('TEST': conda)",
   "metadata": {
    "interpreter": {
     "hash": "113cc409f5fe68c1d3c8dd8e7fa47783feb0197acea64ca4e669776bb959e33f"
    }
   }
  }
 },
 "nbformat": 4,
 "nbformat_minor": 2,
 "cells": [
  {
   "cell_type": "code",
   "execution_count": 1,
   "metadata": {},
   "outputs": [
    {
     "output_type": "execute_result",
     "data": {
      "text/plain": [
       "                       V0        V1          V2          V3        V4  \\\n",
       "0     2012-01-01 01:00:00 -4.187027  498.272491  132.585444 -4.331107   \n",
       "1     2012-01-01 02:00:00 -4.513490  498.346536  132.155846 -5.144637   \n",
       "2     2012-01-01 03:00:00 -4.419986  498.324978  132.239725 -4.864652   \n",
       "3     2012-01-01 04:00:00 -4.643191  498.548175  132.284963 -5.128783   \n",
       "4     2012-01-01 05:00:00 -4.802056  498.790885  131.710328 -5.345652   \n",
       "...                   ...       ...         ...         ...       ...   \n",
       "70086 2019-12-31 19:10:00 -0.404982  501.040783  135.916502 -2.597715   \n",
       "70087 2019-12-31 20:10:00 -0.720429  500.808688  135.873692 -3.444217   \n",
       "70088 2019-12-31 21:10:00 -1.371468  500.492515  135.174733 -3.456158   \n",
       "70089 2019-12-31 22:10:00 -1.402805  500.222985  135.031809 -3.587148   \n",
       "70090 2019-12-31 23:10:00 -2.001010  499.953958  134.575172 -3.948481   \n",
       "\n",
       "              V5        V6        V7        V8        V9       V10      V11  \\\n",
       "0      47.011057  1.646980  1.498874  0.148436  0.977048  1.650631  1307.86   \n",
       "1      46.609310  1.407817  1.453446 -0.012474  1.005379  1.575515  1312.25   \n",
       "2      46.660838  1.674208  1.402759  0.121875  0.938557  1.432068  1312.18   \n",
       "3      46.333029  1.395419  1.656221  0.002041  0.949993  1.241215  1313.61   \n",
       "4      46.133068  1.502969  1.336300  0.021828  0.763201  1.427051  1317.19   \n",
       "...          ...       ...       ...       ...       ...       ...      ...   \n",
       "70086  36.011214  2.783641  1.966605  0.775285  1.138488  1.917188  1280.70   \n",
       "70087  33.113073  2.818106  1.813547  0.793354  1.143923  1.967996  1281.87   \n",
       "70088  36.551115  2.390426  1.920235  0.669662  1.162564  1.831300  1288.02   \n",
       "70089  36.195800  2.467938  1.787150  0.808476  1.087828  1.629261  1288.03   \n",
       "70090  36.300218  2.108959  1.718543  0.533920  1.134640  1.821696  1292.41   \n",
       "\n",
       "            V12       V13       V14       V15       year     month     day  \\\n",
       "0     -0.204862 -0.046168 -0.614587 -0.138503  year 2012   month 1   day 1   \n",
       "1     -0.245971 -0.044701 -0.619848 -0.112645  year 2012   month 1   day 1   \n",
       "2     -0.175527  0.039879 -0.614344  0.139576  year 2012   month 1   day 1   \n",
       "3     -0.050000 -0.086603 -0.190000 -0.329090  year 2012   month 1   day 1   \n",
       "4     -0.368202  0.156292 -0.810044  0.343843  year 2012   month 1   day 1   \n",
       "...         ...       ...       ...       ...        ...       ...     ...   \n",
       "70086 -0.855154 -0.160038 -1.336792 -0.250174  year 2019  month 12  day 31   \n",
       "70087 -0.716196 -0.726267 -1.348134 -1.367090  year 2019  month 12  day 31   \n",
       "70088 -0.661501  0.257908 -1.453438  0.566672  year 2019  month 12  day 31   \n",
       "70089 -0.280621 -0.209169 -0.545207 -0.406385  year 2019  month 12  day 31   \n",
       "70090 -0.516998 -0.215205 -0.923210 -0.384295  year 2019  month 12  day 31   \n",
       "\n",
       "          hour  \n",
       "0       hour 1  \n",
       "1       hour 2  \n",
       "2       hour 3  \n",
       "3       hour 4  \n",
       "4       hour 5  \n",
       "...        ...  \n",
       "70086  hour 19  \n",
       "70087  hour 20  \n",
       "70088  hour 21  \n",
       "70089  hour 22  \n",
       "70090  hour 23  \n",
       "\n",
       "[70091 rows x 20 columns]"
      ],
      "text/html": "<div>\n<style scoped>\n    .dataframe tbody tr th:only-of-type {\n        vertical-align: middle;\n    }\n\n    .dataframe tbody tr th {\n        vertical-align: top;\n    }\n\n    .dataframe thead th {\n        text-align: right;\n    }\n</style>\n<table border=\"1\" class=\"dataframe\">\n  <thead>\n    <tr style=\"text-align: right;\">\n      <th></th>\n      <th>V0</th>\n      <th>V1</th>\n      <th>V2</th>\n      <th>V3</th>\n      <th>V4</th>\n      <th>V5</th>\n      <th>V6</th>\n      <th>V7</th>\n      <th>V8</th>\n      <th>V9</th>\n      <th>V10</th>\n      <th>V11</th>\n      <th>V12</th>\n      <th>V13</th>\n      <th>V14</th>\n      <th>V15</th>\n      <th>year</th>\n      <th>month</th>\n      <th>day</th>\n      <th>hour</th>\n    </tr>\n  </thead>\n  <tbody>\n    <tr>\n      <th>0</th>\n      <td>2012-01-01 01:00:00</td>\n      <td>-4.187027</td>\n      <td>498.272491</td>\n      <td>132.585444</td>\n      <td>-4.331107</td>\n      <td>47.011057</td>\n      <td>1.646980</td>\n      <td>1.498874</td>\n      <td>0.148436</td>\n      <td>0.977048</td>\n      <td>1.650631</td>\n      <td>1307.86</td>\n      <td>-0.204862</td>\n      <td>-0.046168</td>\n      <td>-0.614587</td>\n      <td>-0.138503</td>\n      <td>year 2012</td>\n      <td>month 1</td>\n      <td>day 1</td>\n      <td>hour 1</td>\n    </tr>\n    <tr>\n      <th>1</th>\n      <td>2012-01-01 02:00:00</td>\n      <td>-4.513490</td>\n      <td>498.346536</td>\n      <td>132.155846</td>\n      <td>-5.144637</td>\n      <td>46.609310</td>\n      <td>1.407817</td>\n      <td>1.453446</td>\n      <td>-0.012474</td>\n      <td>1.005379</td>\n      <td>1.575515</td>\n      <td>1312.25</td>\n      <td>-0.245971</td>\n      <td>-0.044701</td>\n      <td>-0.619848</td>\n      <td>-0.112645</td>\n      <td>year 2012</td>\n      <td>month 1</td>\n      <td>day 1</td>\n      <td>hour 2</td>\n    </tr>\n    <tr>\n      <th>2</th>\n      <td>2012-01-01 03:00:00</td>\n      <td>-4.419986</td>\n      <td>498.324978</td>\n      <td>132.239725</td>\n      <td>-4.864652</td>\n      <td>46.660838</td>\n      <td>1.674208</td>\n      <td>1.402759</td>\n      <td>0.121875</td>\n      <td>0.938557</td>\n      <td>1.432068</td>\n      <td>1312.18</td>\n      <td>-0.175527</td>\n      <td>0.039879</td>\n      <td>-0.614344</td>\n      <td>0.139576</td>\n      <td>year 2012</td>\n      <td>month 1</td>\n      <td>day 1</td>\n      <td>hour 3</td>\n    </tr>\n    <tr>\n      <th>3</th>\n      <td>2012-01-01 04:00:00</td>\n      <td>-4.643191</td>\n      <td>498.548175</td>\n      <td>132.284963</td>\n      <td>-5.128783</td>\n      <td>46.333029</td>\n      <td>1.395419</td>\n      <td>1.656221</td>\n      <td>0.002041</td>\n      <td>0.949993</td>\n      <td>1.241215</td>\n      <td>1313.61</td>\n      <td>-0.050000</td>\n      <td>-0.086603</td>\n      <td>-0.190000</td>\n      <td>-0.329090</td>\n      <td>year 2012</td>\n      <td>month 1</td>\n      <td>day 1</td>\n      <td>hour 4</td>\n    </tr>\n    <tr>\n      <th>4</th>\n      <td>2012-01-01 05:00:00</td>\n      <td>-4.802056</td>\n      <td>498.790885</td>\n      <td>131.710328</td>\n      <td>-5.345652</td>\n      <td>46.133068</td>\n      <td>1.502969</td>\n      <td>1.336300</td>\n      <td>0.021828</td>\n      <td>0.763201</td>\n      <td>1.427051</td>\n      <td>1317.19</td>\n      <td>-0.368202</td>\n      <td>0.156292</td>\n      <td>-0.810044</td>\n      <td>0.343843</td>\n      <td>year 2012</td>\n      <td>month 1</td>\n      <td>day 1</td>\n      <td>hour 5</td>\n    </tr>\n    <tr>\n      <th>...</th>\n      <td>...</td>\n      <td>...</td>\n      <td>...</td>\n      <td>...</td>\n      <td>...</td>\n      <td>...</td>\n      <td>...</td>\n      <td>...</td>\n      <td>...</td>\n      <td>...</td>\n      <td>...</td>\n      <td>...</td>\n      <td>...</td>\n      <td>...</td>\n      <td>...</td>\n      <td>...</td>\n      <td>...</td>\n      <td>...</td>\n      <td>...</td>\n      <td>...</td>\n    </tr>\n    <tr>\n      <th>70086</th>\n      <td>2019-12-31 19:10:00</td>\n      <td>-0.404982</td>\n      <td>501.040783</td>\n      <td>135.916502</td>\n      <td>-2.597715</td>\n      <td>36.011214</td>\n      <td>2.783641</td>\n      <td>1.966605</td>\n      <td>0.775285</td>\n      <td>1.138488</td>\n      <td>1.917188</td>\n      <td>1280.70</td>\n      <td>-0.855154</td>\n      <td>-0.160038</td>\n      <td>-1.336792</td>\n      <td>-0.250174</td>\n      <td>year 2019</td>\n      <td>month 12</td>\n      <td>day 31</td>\n      <td>hour 19</td>\n    </tr>\n    <tr>\n      <th>70087</th>\n      <td>2019-12-31 20:10:00</td>\n      <td>-0.720429</td>\n      <td>500.808688</td>\n      <td>135.873692</td>\n      <td>-3.444217</td>\n      <td>33.113073</td>\n      <td>2.818106</td>\n      <td>1.813547</td>\n      <td>0.793354</td>\n      <td>1.143923</td>\n      <td>1.967996</td>\n      <td>1281.87</td>\n      <td>-0.716196</td>\n      <td>-0.726267</td>\n      <td>-1.348134</td>\n      <td>-1.367090</td>\n      <td>year 2019</td>\n      <td>month 12</td>\n      <td>day 31</td>\n      <td>hour 20</td>\n    </tr>\n    <tr>\n      <th>70088</th>\n      <td>2019-12-31 21:10:00</td>\n      <td>-1.371468</td>\n      <td>500.492515</td>\n      <td>135.174733</td>\n      <td>-3.456158</td>\n      <td>36.551115</td>\n      <td>2.390426</td>\n      <td>1.920235</td>\n      <td>0.669662</td>\n      <td>1.162564</td>\n      <td>1.831300</td>\n      <td>1288.02</td>\n      <td>-0.661501</td>\n      <td>0.257908</td>\n      <td>-1.453438</td>\n      <td>0.566672</td>\n      <td>year 2019</td>\n      <td>month 12</td>\n      <td>day 31</td>\n      <td>hour 21</td>\n    </tr>\n    <tr>\n      <th>70089</th>\n      <td>2019-12-31 22:10:00</td>\n      <td>-1.402805</td>\n      <td>500.222985</td>\n      <td>135.031809</td>\n      <td>-3.587148</td>\n      <td>36.195800</td>\n      <td>2.467938</td>\n      <td>1.787150</td>\n      <td>0.808476</td>\n      <td>1.087828</td>\n      <td>1.629261</td>\n      <td>1288.03</td>\n      <td>-0.280621</td>\n      <td>-0.209169</td>\n      <td>-0.545207</td>\n      <td>-0.406385</td>\n      <td>year 2019</td>\n      <td>month 12</td>\n      <td>day 31</td>\n      <td>hour 22</td>\n    </tr>\n    <tr>\n      <th>70090</th>\n      <td>2019-12-31 23:10:00</td>\n      <td>-2.001010</td>\n      <td>499.953958</td>\n      <td>134.575172</td>\n      <td>-3.948481</td>\n      <td>36.300218</td>\n      <td>2.108959</td>\n      <td>1.718543</td>\n      <td>0.533920</td>\n      <td>1.134640</td>\n      <td>1.821696</td>\n      <td>1292.41</td>\n      <td>-0.516998</td>\n      <td>-0.215205</td>\n      <td>-0.923210</td>\n      <td>-0.384295</td>\n      <td>year 2019</td>\n      <td>month 12</td>\n      <td>day 31</td>\n      <td>hour 23</td>\n    </tr>\n  </tbody>\n</table>\n<p>70091 rows × 20 columns</p>\n</div>"
     },
     "metadata": {},
     "execution_count": 1
    }
   ],
   "source": [
    "import numpy as np\n",
    "import pandas as pd\n",
    "import statsmodels.tsa.stattools as ts\n",
    "import matplotlib.pyplot as plt\n",
    "from sklearn.model_selection import train_test_split\n",
    "\n",
    "%store -r dat\n",
    "dat"
   ]
  },
  {
   "source": [
    "## Normalization of the variables"
   ],
   "cell_type": "markdown",
   "metadata": {}
  },
  {
   "cell_type": "code",
   "execution_count": 2,
   "metadata": {},
   "outputs": [
    {
     "output_type": "execute_result",
     "data": {
      "text/plain": [
       "            year     month     day     hour                  V0        V1  \\\n",
       "0      year 2012   month 1   day 1   hour 1 2012-01-01 01:00:00 -4.187027   \n",
       "1      year 2012   month 1   day 1   hour 2 2012-01-01 02:00:00 -4.513490   \n",
       "2      year 2012   month 1   day 1   hour 3 2012-01-01 03:00:00 -4.419986   \n",
       "3      year 2012   month 1   day 1   hour 4 2012-01-01 04:00:00 -4.643191   \n",
       "4      year 2012   month 1   day 1   hour 5 2012-01-01 05:00:00 -4.802056   \n",
       "...          ...       ...     ...      ...                 ...       ...   \n",
       "70086  year 2019  month 12  day 31  hour 19 2019-12-31 19:10:00 -0.404982   \n",
       "70087  year 2019  month 12  day 31  hour 20 2019-12-31 20:10:00 -0.720429   \n",
       "70088  year 2019  month 12  day 31  hour 21 2019-12-31 21:10:00 -1.371468   \n",
       "70089  year 2019  month 12  day 31  hour 22 2019-12-31 22:10:00 -1.402805   \n",
       "70090  year 2019  month 12  day 31  hour 23 2019-12-31 23:10:00 -2.001010   \n",
       "\n",
       "             V2        V3        V4        V5        V6        V7        V8  \\\n",
       "0      0.876997 -2.153926 -2.022831  1.093287 -1.327910 -1.560263 -0.763883   \n",
       "1      0.894709 -2.254932 -2.264491  1.044520 -1.389687 -1.581956 -0.829536   \n",
       "2      0.889552 -2.235210 -2.181321  1.050775 -1.320877 -1.606159 -0.774720   \n",
       "3      0.942942 -2.224574 -2.259782  1.010983 -1.392890 -1.485130 -0.823614   \n",
       "4      1.000999 -2.359680 -2.324203  0.986710 -1.365109 -1.637893 -0.815541   \n",
       "...         ...       ...       ...       ...       ...       ...       ...   \n",
       "70086  1.539187 -1.370737 -1.507924 -0.241952 -1.034306 -1.336920 -0.508120   \n",
       "70087  1.483669 -1.380802 -1.759379 -0.593750 -1.025403 -1.410006 -0.500748   \n",
       "70088  1.408038 -1.545140 -1.762926 -0.176415 -1.135875 -1.359062 -0.551216   \n",
       "70089  1.343565 -1.578743 -1.801837 -0.219546 -1.115853 -1.422611 -0.494577   \n",
       "70090  1.279213 -1.686107 -1.909171 -0.206871 -1.208579 -1.455371 -0.606600   \n",
       "\n",
       "             V9       V10       V11       V12       V13       V14       V15  \n",
       "0     -1.527495 -1.495066  2.296447  0.212812  0.232446  0.130552  0.227837  \n",
       "1     -1.506219 -1.530497  2.406267  0.192127  0.233391  0.128852  0.237737  \n",
       "2     -1.556402 -1.598159  2.404516  0.227572  0.287866  0.130630  0.334304  \n",
       "3     -1.547814 -1.688182  2.440289  0.290732  0.206403  0.267724  0.154868  \n",
       "4     -1.688092 -1.600526  2.529847  0.130626  0.362845  0.067405  0.412511  \n",
       "...         ...       ...       ...       ...       ...       ...       ...  \n",
       "70086 -1.406256 -1.369335  1.617010 -0.114389  0.159105 -0.102773  0.185083  \n",
       "70087 -1.402174 -1.345370  1.646278 -0.044471 -0.205587 -0.106437 -0.242545  \n",
       "70088 -1.388174 -1.409847  1.800127 -0.016950  0.428293 -0.140458  0.497824  \n",
       "70089 -1.444301 -1.505146  1.800378  0.174693  0.127461  0.152966  0.125275  \n",
       "70090 -1.409145 -1.414378  1.909948  0.055758  0.123573  0.030844  0.133732  \n",
       "\n",
       "[70091 rows x 20 columns]"
      ],
      "text/html": "<div>\n<style scoped>\n    .dataframe tbody tr th:only-of-type {\n        vertical-align: middle;\n    }\n\n    .dataframe tbody tr th {\n        vertical-align: top;\n    }\n\n    .dataframe thead th {\n        text-align: right;\n    }\n</style>\n<table border=\"1\" class=\"dataframe\">\n  <thead>\n    <tr style=\"text-align: right;\">\n      <th></th>\n      <th>year</th>\n      <th>month</th>\n      <th>day</th>\n      <th>hour</th>\n      <th>V0</th>\n      <th>V1</th>\n      <th>V2</th>\n      <th>V3</th>\n      <th>V4</th>\n      <th>V5</th>\n      <th>V6</th>\n      <th>V7</th>\n      <th>V8</th>\n      <th>V9</th>\n      <th>V10</th>\n      <th>V11</th>\n      <th>V12</th>\n      <th>V13</th>\n      <th>V14</th>\n      <th>V15</th>\n    </tr>\n  </thead>\n  <tbody>\n    <tr>\n      <th>0</th>\n      <td>year 2012</td>\n      <td>month 1</td>\n      <td>day 1</td>\n      <td>hour 1</td>\n      <td>2012-01-01 01:00:00</td>\n      <td>-4.187027</td>\n      <td>0.876997</td>\n      <td>-2.153926</td>\n      <td>-2.022831</td>\n      <td>1.093287</td>\n      <td>-1.327910</td>\n      <td>-1.560263</td>\n      <td>-0.763883</td>\n      <td>-1.527495</td>\n      <td>-1.495066</td>\n      <td>2.296447</td>\n      <td>0.212812</td>\n      <td>0.232446</td>\n      <td>0.130552</td>\n      <td>0.227837</td>\n    </tr>\n    <tr>\n      <th>1</th>\n      <td>year 2012</td>\n      <td>month 1</td>\n      <td>day 1</td>\n      <td>hour 2</td>\n      <td>2012-01-01 02:00:00</td>\n      <td>-4.513490</td>\n      <td>0.894709</td>\n      <td>-2.254932</td>\n      <td>-2.264491</td>\n      <td>1.044520</td>\n      <td>-1.389687</td>\n      <td>-1.581956</td>\n      <td>-0.829536</td>\n      <td>-1.506219</td>\n      <td>-1.530497</td>\n      <td>2.406267</td>\n      <td>0.192127</td>\n      <td>0.233391</td>\n      <td>0.128852</td>\n      <td>0.237737</td>\n    </tr>\n    <tr>\n      <th>2</th>\n      <td>year 2012</td>\n      <td>month 1</td>\n      <td>day 1</td>\n      <td>hour 3</td>\n      <td>2012-01-01 03:00:00</td>\n      <td>-4.419986</td>\n      <td>0.889552</td>\n      <td>-2.235210</td>\n      <td>-2.181321</td>\n      <td>1.050775</td>\n      <td>-1.320877</td>\n      <td>-1.606159</td>\n      <td>-0.774720</td>\n      <td>-1.556402</td>\n      <td>-1.598159</td>\n      <td>2.404516</td>\n      <td>0.227572</td>\n      <td>0.287866</td>\n      <td>0.130630</td>\n      <td>0.334304</td>\n    </tr>\n    <tr>\n      <th>3</th>\n      <td>year 2012</td>\n      <td>month 1</td>\n      <td>day 1</td>\n      <td>hour 4</td>\n      <td>2012-01-01 04:00:00</td>\n      <td>-4.643191</td>\n      <td>0.942942</td>\n      <td>-2.224574</td>\n      <td>-2.259782</td>\n      <td>1.010983</td>\n      <td>-1.392890</td>\n      <td>-1.485130</td>\n      <td>-0.823614</td>\n      <td>-1.547814</td>\n      <td>-1.688182</td>\n      <td>2.440289</td>\n      <td>0.290732</td>\n      <td>0.206403</td>\n      <td>0.267724</td>\n      <td>0.154868</td>\n    </tr>\n    <tr>\n      <th>4</th>\n      <td>year 2012</td>\n      <td>month 1</td>\n      <td>day 1</td>\n      <td>hour 5</td>\n      <td>2012-01-01 05:00:00</td>\n      <td>-4.802056</td>\n      <td>1.000999</td>\n      <td>-2.359680</td>\n      <td>-2.324203</td>\n      <td>0.986710</td>\n      <td>-1.365109</td>\n      <td>-1.637893</td>\n      <td>-0.815541</td>\n      <td>-1.688092</td>\n      <td>-1.600526</td>\n      <td>2.529847</td>\n      <td>0.130626</td>\n      <td>0.362845</td>\n      <td>0.067405</td>\n      <td>0.412511</td>\n    </tr>\n    <tr>\n      <th>...</th>\n      <td>...</td>\n      <td>...</td>\n      <td>...</td>\n      <td>...</td>\n      <td>...</td>\n      <td>...</td>\n      <td>...</td>\n      <td>...</td>\n      <td>...</td>\n      <td>...</td>\n      <td>...</td>\n      <td>...</td>\n      <td>...</td>\n      <td>...</td>\n      <td>...</td>\n      <td>...</td>\n      <td>...</td>\n      <td>...</td>\n      <td>...</td>\n      <td>...</td>\n    </tr>\n    <tr>\n      <th>70086</th>\n      <td>year 2019</td>\n      <td>month 12</td>\n      <td>day 31</td>\n      <td>hour 19</td>\n      <td>2019-12-31 19:10:00</td>\n      <td>-0.404982</td>\n      <td>1.539187</td>\n      <td>-1.370737</td>\n      <td>-1.507924</td>\n      <td>-0.241952</td>\n      <td>-1.034306</td>\n      <td>-1.336920</td>\n      <td>-0.508120</td>\n      <td>-1.406256</td>\n      <td>-1.369335</td>\n      <td>1.617010</td>\n      <td>-0.114389</td>\n      <td>0.159105</td>\n      <td>-0.102773</td>\n      <td>0.185083</td>\n    </tr>\n    <tr>\n      <th>70087</th>\n      <td>year 2019</td>\n      <td>month 12</td>\n      <td>day 31</td>\n      <td>hour 20</td>\n      <td>2019-12-31 20:10:00</td>\n      <td>-0.720429</td>\n      <td>1.483669</td>\n      <td>-1.380802</td>\n      <td>-1.759379</td>\n      <td>-0.593750</td>\n      <td>-1.025403</td>\n      <td>-1.410006</td>\n      <td>-0.500748</td>\n      <td>-1.402174</td>\n      <td>-1.345370</td>\n      <td>1.646278</td>\n      <td>-0.044471</td>\n      <td>-0.205587</td>\n      <td>-0.106437</td>\n      <td>-0.242545</td>\n    </tr>\n    <tr>\n      <th>70088</th>\n      <td>year 2019</td>\n      <td>month 12</td>\n      <td>day 31</td>\n      <td>hour 21</td>\n      <td>2019-12-31 21:10:00</td>\n      <td>-1.371468</td>\n      <td>1.408038</td>\n      <td>-1.545140</td>\n      <td>-1.762926</td>\n      <td>-0.176415</td>\n      <td>-1.135875</td>\n      <td>-1.359062</td>\n      <td>-0.551216</td>\n      <td>-1.388174</td>\n      <td>-1.409847</td>\n      <td>1.800127</td>\n      <td>-0.016950</td>\n      <td>0.428293</td>\n      <td>-0.140458</td>\n      <td>0.497824</td>\n    </tr>\n    <tr>\n      <th>70089</th>\n      <td>year 2019</td>\n      <td>month 12</td>\n      <td>day 31</td>\n      <td>hour 22</td>\n      <td>2019-12-31 22:10:00</td>\n      <td>-1.402805</td>\n      <td>1.343565</td>\n      <td>-1.578743</td>\n      <td>-1.801837</td>\n      <td>-0.219546</td>\n      <td>-1.115853</td>\n      <td>-1.422611</td>\n      <td>-0.494577</td>\n      <td>-1.444301</td>\n      <td>-1.505146</td>\n      <td>1.800378</td>\n      <td>0.174693</td>\n      <td>0.127461</td>\n      <td>0.152966</td>\n      <td>0.125275</td>\n    </tr>\n    <tr>\n      <th>70090</th>\n      <td>year 2019</td>\n      <td>month 12</td>\n      <td>day 31</td>\n      <td>hour 23</td>\n      <td>2019-12-31 23:10:00</td>\n      <td>-2.001010</td>\n      <td>1.279213</td>\n      <td>-1.686107</td>\n      <td>-1.909171</td>\n      <td>-0.206871</td>\n      <td>-1.208579</td>\n      <td>-1.455371</td>\n      <td>-0.606600</td>\n      <td>-1.409145</td>\n      <td>-1.414378</td>\n      <td>1.909948</td>\n      <td>0.055758</td>\n      <td>0.123573</td>\n      <td>0.030844</td>\n      <td>0.133732</td>\n    </tr>\n  </tbody>\n</table>\n<p>70091 rows × 20 columns</p>\n</div>"
     },
     "metadata": {},
     "execution_count": 2
    }
   ],
   "source": [
    "dat_y = dat.loc[:,['year','month','day','hour','V0','V1']]\n",
    "dat_x = dat.loc[:,'V2':'V15'].apply(lambda  x: (x-x.mean())/x.std(),axis=0)\n",
    "dat = pd.concat([dat_y,dat_x],axis=1)\n",
    "dat"
   ]
  },
  {
   "source": [
    "## feature engineering "
   ],
   "cell_type": "markdown",
   "metadata": {}
  },
  {
   "cell_type": "code",
   "execution_count": 3,
   "metadata": {},
   "outputs": [
    {
     "output_type": "stream",
     "name": "stdout",
     "text": [
      "(70051, 90)\n"
     ]
    }
   ],
   "source": [
    "##feature engineering\n",
    "movs=[10,20]\n",
    "mov_data = pd.DataFrame()\n",
    "for mov in movs:\n",
    "    #moving average \n",
    "    temp1 = dat.loc[:,'V1':'V15'].apply(lambda  x: x.rolling(window=mov).mean(),axis=0)\n",
    "    temp1.columns = str(mov) + ' mov avg ' + temp1.columns\n",
    "\n",
    "    #moving average max\n",
    "    temp2 = dat.loc[:,'V1':'V15'].apply(lambda  x: x.rolling(window=mov).max(),axis=0)\n",
    "    temp2.columns = str(mov) +' mov max ' + temp2.columns\n",
    "\n",
    "    #moving average min\n",
    "    temp3 = dat.loc[:,'V1':'V15'].apply(lambda  x: x.rolling(window=mov).min(),axis=0)\n",
    "    temp3.columns = str(mov) + ' mov min ' + temp3.columns\n",
    "\n",
    "    mov_data = pd.concat([temp1,temp2,temp3,mov_data],axis=1)[40:]\n",
    "print(mov_data.shape)"
   ]
  },
  {
   "cell_type": "code",
   "execution_count": 4,
   "metadata": {},
   "outputs": [
    {
     "output_type": "execute_result",
     "data": {
      "text/plain": [
       "(70051, 150)"
      ]
     },
     "metadata": {},
     "execution_count": 4
    }
   ],
   "source": [
    "prv_data = pd.DataFrame()\n",
    "for i in range(7,17):\n",
    "    #print(i)\n",
    "    temp = dat.loc[:,'V1':'V15'].shift(i)\n",
    "    temp.columns = str(i) + ' lag ' + temp.columns\n",
    "    prv_data = pd.concat([temp,prv_data],axis=1)\n",
    "prv_data = prv_data[40:]\n",
    "prv_data.shape"
   ]
  },
  {
   "cell_type": "code",
   "execution_count": 5,
   "metadata": {},
   "outputs": [
    {
     "output_type": "execute_result",
     "data": {
      "text/plain": [
       "(70091, 90)"
      ]
     },
     "metadata": {},
     "execution_count": 5
    }
   ],
   "source": [
    "#one hot encoding\n",
    "list_one_hot = ['year','month','day','hour']\n",
    "for i in list_one_hot:\n",
    "    # Get one hot encoding of columns B\n",
    "    one_hot = pd.get_dummies(dat[i])\n",
    "    # Drop column B as it is now encoded\n",
    "    dat = dat.drop(i,axis = 1)\n",
    "    # Join the encoded df\n",
    "    dat = dat.join(one_hot)\n",
    "  \n",
    "  #delete time stamp\n",
    "del dat['V0']\n",
    "dat.shape"
   ]
  },
  {
   "cell_type": "code",
   "execution_count": 6,
   "metadata": {},
   "outputs": [
    {
     "output_type": "stream",
     "name": "stdout",
     "text": [
      "(70051, 330)\n",
      "(70051, 90) (70051, 150) (70051, 90)\n",
      "******\n",
      "(56035, 329) (14009, 329)\n",
      "(56035,) (14009,)\n"
     ]
    }
   ],
   "source": [
    "#Connect of all new databases\n",
    "dat_new = pd.concat([dat[40:],prv_data,mov_data],axis=1)\n",
    "#Sanity test\n",
    "print(dat_new.shape)\n",
    "print(dat[40:].shape,prv_data.shape,mov_data.shape)\n",
    "print('******')\n",
    "#Divide data to train\\test, x\\y, 7 hours ahead\n",
    "#x/y\n",
    "y_dat = dat_new.loc[:,'V1']\n",
    "x_dat = dat_new.loc[:, dat_new.columns != 'V1']\n",
    "\n",
    "#shift 7 hours ahead  \n",
    "y_dat = y_dat[7:]\n",
    "x_dat = x_dat[:-7]\n",
    "\n",
    "#train\\test\n",
    "x_train, x_test, y_train, y_test = train_test_split(x_dat, y_dat, test_size=0.2)\n",
    "print(x_train.shape, x_test.shape)\n",
    "print(y_train.shape, y_test.shape)\n"
   ]
  },
  {
   "source": [
    "## model fit"
   ],
   "cell_type": "markdown",
   "metadata": {}
  },
  {
   "cell_type": "code",
   "execution_count": 7,
   "metadata": {},
   "outputs": [
    {
     "output_type": "stream",
     "name": "stdout",
     "text": [
      "LR: RMSE train 1.098020 RMSE test 1.104510\n",
      "LR: r2 train   0.927189 r2 test   0.926028\n",
      "DT: RMSE train 0.921736 RMSE test 1.241055\n",
      "DT: r2 train   0.949772 r2 test   0.907548\n",
      "RF: RMSE train 0.791632 RMSE test 1.021986\n",
      "RF: r2 train   0.961765 r2 test   0.935029\n",
      "[16:08:10] WARNING: src/objective/regression_obj.cu:152: reg:linear is now deprecated in favor of reg:squarederror.\n",
      "XG: RMSE train 1.147922 RMSE test 1.172277\n",
      "XG: r2 train   0.917746 r2 test   0.913537\n"
     ]
    }
   ],
   "source": [
    "from sklearn.metrics import mean_squared_error\n",
    "from math import sqrt\n",
    "from sklearn.metrics import r2_score\n",
    "from sklearn import model_selection\n",
    "from sklearn.linear_model import LinearRegression\n",
    "from sklearn.linear_model import ElasticNet\n",
    "from xgboost import XGBRegressor\n",
    "from sklearn.tree import DecisionTreeRegressor\n",
    "from sklearn.ensemble import RandomForestRegressor\n",
    "\n",
    "# Spot Check Algorithms\n",
    "models = []\n",
    "models.append(('LR', LinearRegression()))\n",
    "models.append(('DT',DecisionTreeRegressor(max_depth=12, min_samples_leaf=7, min_samples_split=7)))\n",
    "models.append(('RF',RandomForestRegressor(n_estimators=100 ,max_depth=12, min_samples_leaf=7, min_samples_split=7)))\n",
    "models.append(('XG',XGBRegressor(n_estimators=100)))\n",
    "\n",
    "# evaluate each model in turn\n",
    "results = []\n",
    "names = []\n",
    "rmses = []\n",
    "for name, model in models:\n",
    "    if name=='XG':\n",
    "        model.fit(x_train, y_train, early_stopping_rounds=5,eval_set=[(x_test, y_test)], verbose=False)\n",
    "    else:\n",
    "        model.fit(x_train, y_train)\n",
    "    y_predict_test = model.predict(x_test)\n",
    "    y_predict_train = model.predict(x_train)\n",
    "    results.append(y_predict_test)\n",
    "    names.append(name)\n",
    "    rmse_train = sqrt(mean_squared_error(y_train, y_predict_train))\n",
    "    rmse_test = sqrt(mean_squared_error(y_test, y_predict_test))\n",
    "    rmses.append(rmse_test)\n",
    "    print(\"%s: RMSE train %f RMSE test %f\" % (name,rmse_train,rmse_test))\n",
    "    r2_train = r2_score(y_predict_train, y_train)\n",
    "    r2_test = r2_score(y_predict_test, y_test)\n",
    "    print(\"%s: r2 train   %f r2 test   %f\" % (name,r2_train,r2_test))\n",
    "\n",
    "\n",
    "\n"
   ]
  },
  {
   "cell_type": "code",
   "execution_count": 216,
   "metadata": {},
   "outputs": [
    {
     "output_type": "error",
     "ename": "SyntaxError",
     "evalue": "invalid syntax (<ipython-input-216-82ce14fde444>, line 2)",
     "traceback": [
      "\u001b[1;36m  File \u001b[1;32m\"<ipython-input-216-82ce14fde444>\"\u001b[1;36m, line \u001b[1;32m2\u001b[0m\n\u001b[1;33m    from statsmodels.graphidata['lag_1'] = data['Count'].shift(1)cs.tsaplots import plot_pacf\u001b[0m\n\u001b[1;37m                               ^\u001b[0m\n\u001b[1;31mSyntaxError\u001b[0m\u001b[1;31m:\u001b[0m invalid syntax\n"
     ]
    }
   ],
   "source": [
    "from statsmodels.graphics.tsaplots import plot_acf\n",
    "from statsmodels.graphidata['lag_1'] = data['Count'].shift(1)cs.tsaplots import plot_pacf\n",
    "plot_acf(dat['V1'], lags=50)\n",
    "plot_pacf(dat['V1'], lags=50)"
   ]
  },
  {
   "source": [
    "## goodnes of fit"
   ],
   "cell_type": "markdown",
   "metadata": {}
  },
  {
   "cell_type": "code",
   "execution_count": 11,
   "metadata": {},
   "outputs": [
    {
     "output_type": "execute_result",
     "data": {
      "text/plain": [
       "'RF'"
      ]
     },
     "metadata": {},
     "execution_count": 11
    }
   ],
   "source": [
    "names[2]"
   ]
  }
 ]
}