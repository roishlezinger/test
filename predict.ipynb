{
 "metadata": {
  "language_info": {
   "codemirror_mode": {
    "name": "ipython",
    "version": 3
   },
   "file_extension": ".py",
   "mimetype": "text/x-python",
   "name": "python",
   "nbconvert_exporter": "python",
   "pygments_lexer": "ipython3",
   "version": "3.7.7-final"
  },
  "orig_nbformat": 2,
  "kernelspec": {
   "name": "Python 3.7.7 64-bit ('TEST': conda)",
   "display_name": "Python 3.7.7 64-bit ('TEST': conda)",
   "metadata": {
    "interpreter": {
     "hash": "113cc409f5fe68c1d3c8dd8e7fa47783feb0197acea64ca4e669776bb959e33f"
    }
   }
  }
 },
 "nbformat": 4,
 "nbformat_minor": 2,
 "cells": [
  {
   "cell_type": "code",
   "execution_count": null,
   "metadata": {},
   "outputs": [],
   "source": [
    "import numpy as np\n",
    "import pandas as pd\n",
    "import statsmodels.tsa.stattools as ts\n",
    "import matplotlib.pyplot as plt\n",
    "from sklearn.model_selection import train_test_split\n",
    "\n",
    "%store -r dat\n",
    "dat"
   ]
  },
  {
   "source": [
    "## feature engineering "
   ],
   "cell_type": "markdown",
   "metadata": {}
  },
  {
   "cell_type": "code",
   "execution_count": null,
   "metadata": {},
   "outputs": [],
   "source": [
    "##feature engineering\n",
    "mov=10\n",
    "\n",
    "#moving average \n",
    "temp1 = dat.loc[:,'V1':'V15'].apply(lambda  x: x.rolling(window=mov).mean(),axis=0)\n",
    "temp1.columns = 'mov avg' + temp1.columns\n",
    "\n",
    "#moving average max\n",
    "temp2 = dat.loc[:,'V1':'V15'].apply(lambda  x: x.rolling(window=mov).max(),axis=0)\n",
    "temp2.columns = 'mov max' + temp2.columns\n",
    "\n",
    "#moving average min\n",
    "temp3 = dat.loc[:,'V1':'V15'].apply(lambda  x: x.rolling(window=mov).min(),axis=0)\n",
    "temp3.columns = 'mov min' + temp3.columns\n",
    "\n",
    "\n",
    "mov_data = pd.concat([temp1,temp2,temp3],axis=1)[9:]\n"
   ]
  },
  {
   "cell_type": "code",
   "execution_count": null,
   "metadata": {},
   "outputs": [],
   "source": [
    "#add previous logs\n",
    "temp1 = dat.loc[:,'V1':'V15'].shift(7)\n",
    "temp1.columns = 'lag 7 ' + temp1.columns\n",
    "temp2 = dat.loc[:,'V1':'V15'].shift(8)\n",
    "temp2.columns = 'lag 8 ' + temp2.columns\n",
    "temp3 = dat.loc[:,'V1':'V15'].shift(9)\n",
    "temp3.columns = 'lag 9 ' + temp3.columns\n",
    "prv_data = pd.concat([temp1,temp2,temp3],axis=1)[9:]\n"
   ]
  },
  {
   "cell_type": "code",
   "execution_count": null,
   "metadata": {},
   "outputs": [],
   "source": [
    "#one hot encoding\n",
    "list_one_hot = ['year','month','day','hour']\n",
    "for i in list_one_hot:\n",
    "    # Get one hot encoding of columns B\n",
    "    one_hot = pd.get_dummies(dat[i])\n",
    "    # Drop column B as it is now encoded\n",
    "    dat = dat.drop(i,axis = 1)\n",
    "    # Join the encoded df\n",
    "    dat = dat.join(one_hot)\n",
    "  \n",
    "  #delete time stamp\n",
    "del dat['V0']\n"
   ]
  },
  {
   "cell_type": "code",
   "execution_count": 140,
   "metadata": {},
   "outputs": [
    {
     "output_type": "execute_result",
     "data": {
      "text/plain": [
       "             V1          V2          V3        V4         V5        V6  \\\n",
       "9     -3.716719  500.059239  133.137748 -4.233095  45.753789  1.625762   \n",
       "10    -3.598363  500.426342  132.936482 -4.388809  45.234997  1.758288   \n",
       "11    -3.312339  500.265295  132.961460 -4.294721  44.805314  1.856280   \n",
       "12    -2.982333  499.841291  133.738494 -3.724466  44.333125  1.888860   \n",
       "13    -2.899299  499.893277  133.457668 -3.797008  44.483366  1.976567   \n",
       "...         ...         ...         ...       ...        ...       ...   \n",
       "70086 -0.404982  501.040783  135.916502 -2.597715  36.011214  2.783641   \n",
       "70087 -0.720429  500.808688  135.873692 -3.444217  33.113073  2.818106   \n",
       "70088 -1.371468  500.492515  135.174733 -3.456158  36.551115  2.390426   \n",
       "70089 -1.402805  500.222985  135.031809 -3.587148  36.195800  2.467938   \n",
       "70090 -2.001010  499.953958  134.575172 -3.948481  36.300218  2.108959   \n",
       "\n",
       "             V7        V8        V9       V10  ...  mov minV6  mov minV7  \\\n",
       "9      1.595271  0.168875  0.976544  1.795665  ...   1.395419   1.143861   \n",
       "10     1.530670  0.110573  0.874004  1.683155  ...   1.395419   1.143861   \n",
       "11     1.777368  0.229766  1.106410  1.615100  ...   1.395419   1.143861   \n",
       "12     1.790434  0.199584  0.914527  1.586328  ...   1.395419   1.143861   \n",
       "13     1.853153  0.242760  1.135723  1.805624  ...   1.421063   1.143861   \n",
       "...         ...       ...       ...       ...  ...        ...        ...   \n",
       "70086  1.966605  0.775285  1.138488  1.917188  ...   2.016800   1.710144   \n",
       "70087  1.813547  0.793354  1.143923  1.967996  ...   2.352713   1.710144   \n",
       "70088  1.920235  0.669662  1.162564  1.831300  ...   2.390426   1.813547   \n",
       "70089  1.787150  0.808476  1.087828  1.629261  ...   2.390426   1.787150   \n",
       "70090  1.718543  0.533920  1.134640  1.821696  ...   2.108959   1.718543   \n",
       "\n",
       "       mov minV8  mov minV9  mov minV10  mov minV11  mov minV12  mov minV13  \\\n",
       "9      -0.091569   0.763201    1.241215     1307.76   -0.597609   -1.338655   \n",
       "10     -0.091569   0.763201    1.241215     1307.76   -0.597609   -1.909953   \n",
       "11     -0.091569   0.763201    1.241215     1306.98   -1.834577   -1.909953   \n",
       "12     -0.091569   0.763201    1.241215     1301.73   -1.834577   -1.909953   \n",
       "13     -0.091569   0.763201    1.293750     1301.67   -1.834577   -1.909953   \n",
       "...          ...        ...         ...         ...         ...         ...   \n",
       "70086   0.366921   0.982746    1.685126     1254.09   -1.237687   -0.934393   \n",
       "70087   0.659672   0.982746    1.831553     1254.09   -1.237687   -0.934393   \n",
       "70088   0.669662   0.982746    1.831300     1254.09   -0.976457   -0.934393   \n",
       "70089   0.669662   1.087828    1.629261     1254.09   -0.974376   -0.934393   \n",
       "70090   0.533920   1.087828    1.629261     1254.09   -0.974376   -0.934393   \n",
       "\n",
       "       mov minV14  mov minV15  \n",
       "9       -1.037515   -2.769631  \n",
       "10      -1.037515   -3.379918  \n",
       "11      -2.622249   -3.379918  \n",
       "12      -2.622249   -3.379918  \n",
       "13      -2.622249   -3.379918  \n",
       "...           ...         ...  \n",
       "70086   -2.435449   -1.301229  \n",
       "70087   -2.435449   -1.367090  \n",
       "70088   -1.916066   -1.367090  \n",
       "70089   -1.860779   -1.367090  \n",
       "70090   -1.453438   -1.367090  \n",
       "\n",
       "[70082 rows x 180 columns]"
      ],
      "text/html": "<div>\n<style scoped>\n    .dataframe tbody tr th:only-of-type {\n        vertical-align: middle;\n    }\n\n    .dataframe tbody tr th {\n        vertical-align: top;\n    }\n\n    .dataframe thead th {\n        text-align: right;\n    }\n</style>\n<table border=\"1\" class=\"dataframe\">\n  <thead>\n    <tr style=\"text-align: right;\">\n      <th></th>\n      <th>V1</th>\n      <th>V2</th>\n      <th>V3</th>\n      <th>V4</th>\n      <th>V5</th>\n      <th>V6</th>\n      <th>V7</th>\n      <th>V8</th>\n      <th>V9</th>\n      <th>V10</th>\n      <th>...</th>\n      <th>mov minV6</th>\n      <th>mov minV7</th>\n      <th>mov minV8</th>\n      <th>mov minV9</th>\n      <th>mov minV10</th>\n      <th>mov minV11</th>\n      <th>mov minV12</th>\n      <th>mov minV13</th>\n      <th>mov minV14</th>\n      <th>mov minV15</th>\n    </tr>\n  </thead>\n  <tbody>\n    <tr>\n      <th>9</th>\n      <td>-3.716719</td>\n      <td>500.059239</td>\n      <td>133.137748</td>\n      <td>-4.233095</td>\n      <td>45.753789</td>\n      <td>1.625762</td>\n      <td>1.595271</td>\n      <td>0.168875</td>\n      <td>0.976544</td>\n      <td>1.795665</td>\n      <td>...</td>\n      <td>1.395419</td>\n      <td>1.143861</td>\n      <td>-0.091569</td>\n      <td>0.763201</td>\n      <td>1.241215</td>\n      <td>1307.76</td>\n      <td>-0.597609</td>\n      <td>-1.338655</td>\n      <td>-1.037515</td>\n      <td>-2.769631</td>\n    </tr>\n    <tr>\n      <th>10</th>\n      <td>-3.598363</td>\n      <td>500.426342</td>\n      <td>132.936482</td>\n      <td>-4.388809</td>\n      <td>45.234997</td>\n      <td>1.758288</td>\n      <td>1.530670</td>\n      <td>0.110573</td>\n      <td>0.874004</td>\n      <td>1.683155</td>\n      <td>...</td>\n      <td>1.395419</td>\n      <td>1.143861</td>\n      <td>-0.091569</td>\n      <td>0.763201</td>\n      <td>1.241215</td>\n      <td>1307.76</td>\n      <td>-0.597609</td>\n      <td>-1.909953</td>\n      <td>-1.037515</td>\n      <td>-3.379918</td>\n    </tr>\n    <tr>\n      <th>11</th>\n      <td>-3.312339</td>\n      <td>500.265295</td>\n      <td>132.961460</td>\n      <td>-4.294721</td>\n      <td>44.805314</td>\n      <td>1.856280</td>\n      <td>1.777368</td>\n      <td>0.229766</td>\n      <td>1.106410</td>\n      <td>1.615100</td>\n      <td>...</td>\n      <td>1.395419</td>\n      <td>1.143861</td>\n      <td>-0.091569</td>\n      <td>0.763201</td>\n      <td>1.241215</td>\n      <td>1306.98</td>\n      <td>-1.834577</td>\n      <td>-1.909953</td>\n      <td>-2.622249</td>\n      <td>-3.379918</td>\n    </tr>\n    <tr>\n      <th>12</th>\n      <td>-2.982333</td>\n      <td>499.841291</td>\n      <td>133.738494</td>\n      <td>-3.724466</td>\n      <td>44.333125</td>\n      <td>1.888860</td>\n      <td>1.790434</td>\n      <td>0.199584</td>\n      <td>0.914527</td>\n      <td>1.586328</td>\n      <td>...</td>\n      <td>1.395419</td>\n      <td>1.143861</td>\n      <td>-0.091569</td>\n      <td>0.763201</td>\n      <td>1.241215</td>\n      <td>1301.73</td>\n      <td>-1.834577</td>\n      <td>-1.909953</td>\n      <td>-2.622249</td>\n      <td>-3.379918</td>\n    </tr>\n    <tr>\n      <th>13</th>\n      <td>-2.899299</td>\n      <td>499.893277</td>\n      <td>133.457668</td>\n      <td>-3.797008</td>\n      <td>44.483366</td>\n      <td>1.976567</td>\n      <td>1.853153</td>\n      <td>0.242760</td>\n      <td>1.135723</td>\n      <td>1.805624</td>\n      <td>...</td>\n      <td>1.421063</td>\n      <td>1.143861</td>\n      <td>-0.091569</td>\n      <td>0.763201</td>\n      <td>1.293750</td>\n      <td>1301.67</td>\n      <td>-1.834577</td>\n      <td>-1.909953</td>\n      <td>-2.622249</td>\n      <td>-3.379918</td>\n    </tr>\n    <tr>\n      <th>...</th>\n      <td>...</td>\n      <td>...</td>\n      <td>...</td>\n      <td>...</td>\n      <td>...</td>\n      <td>...</td>\n      <td>...</td>\n      <td>...</td>\n      <td>...</td>\n      <td>...</td>\n      <td>...</td>\n      <td>...</td>\n      <td>...</td>\n      <td>...</td>\n      <td>...</td>\n      <td>...</td>\n      <td>...</td>\n      <td>...</td>\n      <td>...</td>\n      <td>...</td>\n      <td>...</td>\n    </tr>\n    <tr>\n      <th>70086</th>\n      <td>-0.404982</td>\n      <td>501.040783</td>\n      <td>135.916502</td>\n      <td>-2.597715</td>\n      <td>36.011214</td>\n      <td>2.783641</td>\n      <td>1.966605</td>\n      <td>0.775285</td>\n      <td>1.138488</td>\n      <td>1.917188</td>\n      <td>...</td>\n      <td>2.016800</td>\n      <td>1.710144</td>\n      <td>0.366921</td>\n      <td>0.982746</td>\n      <td>1.685126</td>\n      <td>1254.09</td>\n      <td>-1.237687</td>\n      <td>-0.934393</td>\n      <td>-2.435449</td>\n      <td>-1.301229</td>\n    </tr>\n    <tr>\n      <th>70087</th>\n      <td>-0.720429</td>\n      <td>500.808688</td>\n      <td>135.873692</td>\n      <td>-3.444217</td>\n      <td>33.113073</td>\n      <td>2.818106</td>\n      <td>1.813547</td>\n      <td>0.793354</td>\n      <td>1.143923</td>\n      <td>1.967996</td>\n      <td>...</td>\n      <td>2.352713</td>\n      <td>1.710144</td>\n      <td>0.659672</td>\n      <td>0.982746</td>\n      <td>1.831553</td>\n      <td>1254.09</td>\n      <td>-1.237687</td>\n      <td>-0.934393</td>\n      <td>-2.435449</td>\n      <td>-1.367090</td>\n    </tr>\n    <tr>\n      <th>70088</th>\n      <td>-1.371468</td>\n      <td>500.492515</td>\n      <td>135.174733</td>\n      <td>-3.456158</td>\n      <td>36.551115</td>\n      <td>2.390426</td>\n      <td>1.920235</td>\n      <td>0.669662</td>\n      <td>1.162564</td>\n      <td>1.831300</td>\n      <td>...</td>\n      <td>2.390426</td>\n      <td>1.813547</td>\n      <td>0.669662</td>\n      <td>0.982746</td>\n      <td>1.831300</td>\n      <td>1254.09</td>\n      <td>-0.976457</td>\n      <td>-0.934393</td>\n      <td>-1.916066</td>\n      <td>-1.367090</td>\n    </tr>\n    <tr>\n      <th>70089</th>\n      <td>-1.402805</td>\n      <td>500.222985</td>\n      <td>135.031809</td>\n      <td>-3.587148</td>\n      <td>36.195800</td>\n      <td>2.467938</td>\n      <td>1.787150</td>\n      <td>0.808476</td>\n      <td>1.087828</td>\n      <td>1.629261</td>\n      <td>...</td>\n      <td>2.390426</td>\n      <td>1.787150</td>\n      <td>0.669662</td>\n      <td>1.087828</td>\n      <td>1.629261</td>\n      <td>1254.09</td>\n      <td>-0.974376</td>\n      <td>-0.934393</td>\n      <td>-1.860779</td>\n      <td>-1.367090</td>\n    </tr>\n    <tr>\n      <th>70090</th>\n      <td>-2.001010</td>\n      <td>499.953958</td>\n      <td>134.575172</td>\n      <td>-3.948481</td>\n      <td>36.300218</td>\n      <td>2.108959</td>\n      <td>1.718543</td>\n      <td>0.533920</td>\n      <td>1.134640</td>\n      <td>1.821696</td>\n      <td>...</td>\n      <td>2.108959</td>\n      <td>1.718543</td>\n      <td>0.533920</td>\n      <td>1.087828</td>\n      <td>1.629261</td>\n      <td>1254.09</td>\n      <td>-0.974376</td>\n      <td>-0.934393</td>\n      <td>-1.453438</td>\n      <td>-1.367090</td>\n    </tr>\n  </tbody>\n</table>\n<p>70082 rows × 180 columns</p>\n</div>"
     },
     "metadata": {},
     "execution_count": 140
    }
   ],
   "source": [
    "a = dat_new.isnull().sum()\n",
    "dat_new"
   ]
  },
  {
   "cell_type": "code",
   "execution_count": 139,
   "metadata": {},
   "outputs": [
    {
     "output_type": "stream",
     "name": "stdout",
     "text": [
      "(70082, 180)\n",
      "(70091, 90) (70082, 45) (70082, 45)\n",
      "******\n",
      "(56060, 179) (14015, 179)\n",
      "(56060,) (14015,)\n"
     ]
    }
   ],
   "source": [
    "#Connect of all new databases\n",
    "dat_new = pd.concat([dat[9:],prv_data,mov_data],axis=1)\n",
    "#Sanity test\n",
    "print(dat_new.shape)\n",
    "print(dat.shape,prv_data.shape,mov_data.shape)\n",
    "print('******')\n",
    "#Divide data to train\\test, x\\y, 7 hours ahead\n",
    "#x/y\n",
    "y_dat = dat_new.loc[:,'V1']\n",
    "x_dat = dat_new.loc[:, dat_new.columns != 'V1']\n",
    "\n",
    "#shift 7 hours ahead  \n",
    "y_dat = y_dat[7:]\n",
    "x_dat = x_dat[:-7]\n",
    "\n",
    "#train\\test\n",
    "x_train, x_test, y_train, y_test = train_test_split(x_dat, y_dat, test_size=0.2)\n",
    "print(x_train.shape, x_test.shape)\n",
    "print(y_train.shape, y_test.shape)\n"
   ]
  },
  {
   "cell_type": "code",
   "execution_count": null,
   "metadata": {},
   "outputs": [],
   "source": [
    "from statsmodels.graphics.tsaplots import plot_acf\n",
    "from statsmodels.graphidata['lag_1'] = data['Count'].shift(1)cs.tsaplots import plot_pacf\n",
    "plot_acf(dat['V1'], lags=50)\n",
    "plot_pacf(dat['V1'], lags=50)"
   ]
  },
  {
   "source": [
    "## model fit"
   ],
   "cell_type": "markdown",
   "metadata": {}
  },
  {
   "cell_type": "code",
   "execution_count": null,
   "metadata": {},
   "outputs": [],
   "source": [
    "a = x_test.isnull().sum()"
   ]
  },
  {
   "cell_type": "code",
   "execution_count": 154,
   "metadata": {},
   "outputs": [
    {
     "output_type": "stream",
     "name": "stdout",
     "text": [
      "LR: 1.176029\n",
      "EN: 1.638566\n",
      "XG: 2.710509\n"
     ]
    }
   ],
   "source": [
    "from sklearn.metrics import mean_squared_error\n",
    "from math import sqrt\n",
    "from sklearn import model_selection\n",
    "from sklearn.linear_model import LinearRegression\n",
    "from sklearn.linear_model import ElasticNet\n",
    "import xgboost as xgb\n",
    "\n",
    "#fff\n",
    "\n",
    "validation_size = 0.20\n",
    "seed = 7\n",
    "\n",
    "# Spot Check Algorithms\n",
    "models = []\n",
    "models.append(('LR', LinearRegression()))\n",
    "models.append(('EN', ElasticNet(alpha=1.0, l1_ratio=0.5)))\n",
    "models.append(('XG',xgb.XGBRegressor(objective ='reg:squarederror', colsample_bytree = 0.3, learning_rate = 0.1, max_depth = 5, alpha = 10, n_estimators = 10)))\n",
    "\n",
    "data_dmatrix = xgb.DMatrix(data=x_train,label=y_train)\n",
    "\n",
    "# evaluate each model in turn\n",
    "results = []\n",
    "names = []\n",
    "rmses = []\n",
    "for name, model in models:\n",
    "    model.fit(x_train, y_train)\n",
    "    y_predict = model.predict(x_test)\n",
    "    results.append(y_predict)\n",
    "    names.append(name)\n",
    "    rmse = sqrt(mean_squared_error(y_test, y_predict))\n",
    "    rmses.append(rmse)\n",
    "    msg = \"%s: %f\" % (name,rmse)\n",
    "    print(msg)\n",
    "\n"
   ]
  },
  {
   "cell_type": "code",
   "execution_count": 150,
   "metadata": {},
   "outputs": [
    {
     "output_type": "stream",
     "name": "stdout",
     "text": [
      "[20:41:14] WARNING: src/objective/regression_obj.cu:152: reg:linear is now deprecated in favor of reg:squarederror.\n"
     ]
    },
    {
     "output_type": "execute_result",
     "data": {
      "text/plain": [
       "2.710509331708676"
      ]
     },
     "metadata": {},
     "execution_count": 150
    }
   ],
   "source": [
    "data_dmatrix = xgb.DMatrix(data=x_train,label=y_train)\n",
    "model = xgb.XGBRegressor(objective ='reg:linear', colsample_bytree = 0.3, learning_rate = 0.1,\n",
    "                max_depth = 5, alpha = 10, n_estimators = 10)\n",
    "model.fit(x_train,y_train)\n",
    "y_predict = model.predict(x_test)\n",
    "sqrt(mean_squared_error(y_test, y_predict))"
   ]
  },
  {
   "cell_type": "code",
   "execution_count": null,
   "metadata": {},
   "outputs": [],
   "source": [
    "#LinearRegression\n",
    "from sklearn.linear_model import LinearRegression\n",
    "\n",
    "x_train = x_train.apply(pd.to_numeric, errors='coerce')\n",
    "x_test = x_test.apply(pd.to_numeric, errors='coerce')\n",
    "\n",
    "model = LinearRegression()\n",
    "model.fit(x_train, y_train)\n",
    "\n",
    "y_predict_reg = model.predict(x_test)\n",
    "\n"
   ]
  },
  {
   "cell_type": "code",
   "execution_count": null,
   "metadata": {},
   "outputs": [],
   "source": [
    "#Elastic Net\n",
    "from sklearn.linear_model import ElasticNet\n",
    "model = ElasticNet(alpha=1.0, l1_ratio=0.5)\n",
    "model.fit(x_train, y_train)\n",
    "y_predict_elas = model.predict(x_test)\n"
   ]
  },
  {
   "cell_type": "code",
   "execution_count": null,
   "metadata": {},
   "outputs": [],
   "source": [
    "#random forest\n",
    "from sklearn.ensemble import RandomForestRegressor\n",
    "# Instantiate model with 1000 decision trees\n",
    "model = RandomForestRegressor(n_estimators = 1000, random_state = 42)\n",
    "model.fit(x_train, y_train)\n",
    "y_predict_RF = model.predict(x_test)"
   ]
  },
  {
   "cell_type": "code",
   "execution_count": null,
   "metadata": {},
   "outputs": [],
   "source": [
    "from sklearn.metrics import mean_squared_error\n",
    "from math import sqrt\n",
    "\n",
    "rms = sqrt(mean_squared_error(y_test, y_predict_elas))\n",
    "rms"
   ]
  },
  {
   "cell_type": "code",
   "execution_count": null,
   "metadata": {},
   "outputs": [],
   "source": []
  }
 ]
}