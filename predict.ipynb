{
 "metadata": {
  "language_info": {
   "codemirror_mode": {
    "name": "ipython",
    "version": 3
   },
   "file_extension": ".py",
   "mimetype": "text/x-python",
   "name": "python",
   "nbconvert_exporter": "python",
   "pygments_lexer": "ipython3",
   "version": "3.7.7-final"
  },
  "orig_nbformat": 2,
  "kernelspec": {
   "name": "Python 3.7.7 64-bit ('TEST': conda)",
   "display_name": "Python 3.7.7 64-bit ('TEST': conda)",
   "metadata": {
    "interpreter": {
     "hash": "113cc409f5fe68c1d3c8dd8e7fa47783feb0197acea64ca4e669776bb959e33f"
    }
   }
  }
 },
 "nbformat": 4,
 "nbformat_minor": 2,
 "cells": [
  {
   "cell_type": "code",
   "execution_count": null,
   "metadata": {},
   "outputs": [],
   "source": [
    "import numpy as np\n",
    "import pandas as pd\n",
    "import statsmodels.tsa.stattools as ts\n",
    "import matplotlib.pyplot as plt\n",
    "from sklearn.model_selection import train_test_split\n",
    "\n",
    "%store -r dat\n",
    "dat"
   ]
  },
  {
   "cell_type": "code",
   "execution_count": null,
   "metadata": {},
   "outputs": [],
   "source": [
    "#one hot encoding\n",
    "list_one_hot = ['year','month','day','hour']\n",
    "for i in list_one_hot:\n",
    "    # Get one hot encoding of columns B\n",
    "    one_hot = pd.get_dummies(dat[i])\n",
    "    # Drop column B as it is now encoded\n",
    "    dat = dat.drop(i,axis = 1)\n",
    "    # Join the encoded df\n",
    "    dat = dat.join(one_hot)\n",
    "  \n",
    "  #delete time stamp\n",
    "del dat['V0']\n"
   ]
  },
  {
   "cell_type": "code",
   "execution_count": null,
   "metadata": {},
   "outputs": [],
   "source": [
    "#Divide data to train\\test, x\\y, 7 hours ahead\n",
    "#x/y\n",
    "y_dat = dat.loc[:,'V1']\n",
    "x_dat = dat.loc[:, dat.columns != 'V1']\n",
    "\n",
    "\n",
    "#7 hours ahead\n",
    "y_dat = y_dat[7:]\n",
    "x_dat = x_dat[:-7]\n",
    "\n",
    "#train\\test\n",
    "x_train, x_test, y_train, y_test = train_test_split(x_dat, y_dat, test_size=0.2)\n",
    "print(x_train.shape, x_test.shape)\n",
    "print(y_train.shape, y_test.shape)\n"
   ]
  },
  {
   "source": [
    "## model fit"
   ],
   "cell_type": "markdown",
   "metadata": {}
  },
  {
   "cell_type": "code",
   "execution_count": 114,
   "metadata": {},
   "outputs": [
    {
     "output_type": "stream",
     "name": "stdout",
     "text": [
      "LR: 2.061734\n",
      "EN: 2.061734\n"
     ]
    }
   ],
   "source": [
    "from sklearn.metrics import mean_squared_error\n",
    "from math import sqrt\n",
    "from sklearn import model_selection\n",
    "from sklearn.linear_model import LinearRegression\n",
    "from sklearn.linear_model import ElasticNet\n",
    "\n",
    "\n",
    "\n",
    "\n",
    "validation_size = 0.20\n",
    "seed = 7\n",
    "\n",
    "# Spot Check Algorithms\n",
    "models = []\n",
    "models.append(('LR', LinearRegression()))\n",
    "models.append(('EN', ElasticNet(alpha=1.0, l1_ratio=0.5)))\n",
    "\n",
    "\n",
    "# evaluate each model in turn\n",
    "results = []\n",
    "names = []\n",
    "rmses = []\n",
    "for name, model in models:\n",
    "    model.fit(x_train, y_train)\n",
    "    y_predict = model.predict(x_test)\n",
    "    results.append(y_predict)\n",
    "    names.append(name)\n",
    "    rmse = sqrt(mean_squared_error(y_test, y_predict_elas))\n",
    "    rmses.append(rmse)\n",
    "    msg = \"%s: %f\" % (name,rms)\n",
    "    print(msg)"
   ]
  },
  {
   "cell_type": "code",
   "execution_count": null,
   "metadata": {},
   "outputs": [],
   "source": [
    "#LinearRegression\n",
    "from sklearn.linear_model import LinearRegression\n",
    "\n",
    "x_train = x_train.apply(pd.to_numeric, errors='coerce')\n",
    "x_test = x_test.apply(pd.to_numeric, errors='coerce')\n",
    "\n",
    "model = LinearRegression()\n",
    "model.fit(x_train, y_train)\n",
    "\n",
    "y_predict_reg = model.predict(x_test)\n",
    "\n"
   ]
  },
  {
   "cell_type": "code",
   "execution_count": 116,
   "metadata": {},
   "outputs": [
    {
     "output_type": "error",
     "ename": "SyntaxError",
     "evalue": "invalid syntax (<ipython-input-116-2feed62bb145>, line 6)",
     "traceback": [
      "\u001b[1;36m  File \u001b[1;32m\"<ipython-input-116-2feed62bb145>\"\u001b[1;36m, line \u001b[1;32m6\u001b[0m\n\u001b[1;33m    breast_cancer = load_breast_cancer()X = pd.DataFrame(breast_cancer.data, columns=breast_cancer.feature_names)\u001b[0m\n\u001b[1;37m                                        ^\u001b[0m\n\u001b[1;31mSyntaxError\u001b[0m\u001b[1;31m:\u001b[0m invalid syntax\n"
     ]
    }
   ],
   "source": [
    "#Elastic Net\n",
    "from sklearn.linear_model import ElasticNet\n",
    "model = ElasticNet(alpha=1.0, l1_ratio=0.5)\n",
    "model.fit(x_train, y_train)\n",
    "y_predict_elas = model.predict(x_test)\n"
   ]
  },
  {
   "cell_type": "code",
   "execution_count": null,
   "metadata": {},
   "outputs": [],
   "source": [
    "#random forest\n",
    "from sklearn.ensemble import RandomForestRegressor\n",
    "# Instantiate model with 1000 decision trees\n",
    "model = RandomForestRegressor(n_estimators = 1000, random_state = 42)\n",
    "model.fit(x_train, y_train)\n",
    "y_predict_RF = model.predict(x_test)"
   ]
  },
  {
   "cell_type": "code",
   "execution_count": 91,
   "metadata": {},
   "outputs": [
    {
     "output_type": "execute_result",
     "data": {
      "text/plain": [
       "2.061734228182153"
      ]
     },
     "metadata": {},
     "execution_count": 91
    }
   ],
   "source": [
    "from sklearn.metrics import mean_squared_error\n",
    "from math import sqrt\n",
    "\n",
    "rms = sqrt(mean_squared_error(y_test, y_predict_elas))\n",
    "rms"
   ]
  },
  {
   "cell_type": "code",
   "execution_count": null,
   "metadata": {},
   "outputs": [],
   "source": []
  }
 ]
}